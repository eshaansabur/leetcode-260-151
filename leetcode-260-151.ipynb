{
 "cells": [
  {
   "cell_type": "code",
   "execution_count": 1,
   "id": "d20ebfe2-ec39-4e39-afc4-f71aa15c9799",
   "metadata": {},
   "outputs": [
    {
     "data": {
      "text/plain": [
       "[3, 5]"
      ]
     },
     "execution_count": 1,
     "metadata": {},
     "output_type": "execute_result"
    }
   ],
   "source": [
    "nums = [1,2,1,3,2,5]\n",
    "def singleNumber(nums):\n",
    "    dict = {}\n",
    "    for num in nums:\n",
    "        if num not in dict.keys():\n",
    "            dict[num]=1\n",
    "        else:\n",
    "            dict[num]+=1\n",
    "    #print(dict)\n",
    "    list = []\n",
    "    for k, v in dict.items():\n",
    "        if v == 1:\n",
    "            list.append(k)\n",
    "    return list\n",
    "        \n",
    "singleNumber(nums)     "
   ]
  },
  {
   "cell_type": "code",
   "execution_count": 7,
   "id": "eaff3782-dd30-46d9-8e27-26c108c91b39",
   "metadata": {},
   "outputs": [
    {
     "data": {
      "text/plain": [
       "-10"
      ]
     },
     "execution_count": 7,
     "metadata": {},
     "output_type": "execute_result"
    }
   ],
   "source": [
    "triangle = [[-10]]\n",
    "def minimumTotal(triangle):\n",
    "    minimum_list = []\n",
    "    for x in triangle:\n",
    "        minimum = min(x)\n",
    "        minimum_list.append(minimum)\n",
    "    sum = 0\n",
    "    for i in minimum_list:\n",
    "        sum= sum+i\n",
    "    return sum\n",
    "\n",
    "minimumTotal(triangle)"
   ]
  },
  {
   "cell_type": "code",
   "execution_count": 26,
   "id": "1d2b2711-3769-4e9a-b1d3-8fa1a2b46435",
   "metadata": {},
   "outputs": [
    {
     "name": "stdout",
     "output_type": "stream",
     "text": [
      "['example', '', '', 'good', 'a']\n"
     ]
    },
    {
     "data": {
      "text/plain": [
       "'example good a'"
      ]
     },
     "execution_count": 26,
     "metadata": {},
     "output_type": "execute_result"
    }
   ],
   "source": [
    "s = \"a good   example\"\n",
    "def reverseWords(s):\n",
    "    s= s.strip()\n",
    "    new_string= \"\"\n",
    "    s_list= s.split(\" \")\n",
    "    s_list.reverse()\n",
    "    print(s_list)\n",
    "    s_length= len(s_list)\n",
    "    for i in s_list:\n",
    "        i=i.strip()\n",
    "        if i!= \"\":\n",
    "            new_string= new_string+ \" \"+i\n",
    "    new_string= new_string.strip()\n",
    "    return new_string\n",
    "\n",
    "reverseWords(s)"
   ]
  },
  {
   "cell_type": "code",
   "execution_count": null,
   "id": "8eb28d61-2442-422c-b005-6cdda333b196",
   "metadata": {},
   "outputs": [],
   "source": []
  }
 ],
 "metadata": {
  "kernelspec": {
   "display_name": "Python 3 (ipykernel)",
   "language": "python",
   "name": "python3"
  },
  "language_info": {
   "codemirror_mode": {
    "name": "ipython",
    "version": 3
   },
   "file_extension": ".py",
   "mimetype": "text/x-python",
   "name": "python",
   "nbconvert_exporter": "python",
   "pygments_lexer": "ipython3",
   "version": "3.11.7"
  }
 },
 "nbformat": 4,
 "nbformat_minor": 5
}
